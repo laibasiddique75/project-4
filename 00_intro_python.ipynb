{
  "nbformat": 4,
  "nbformat_minor": 0,
  "metadata": {
    "colab": {
      "provenance": [],
      "authorship_tag": "ABX9TyMb/d8xGcdKNCnhfNEaXgdG",
      "include_colab_link": true
    },
    "kernelspec": {
      "name": "python3",
      "display_name": "Python 3"
    },
    "language_info": {
      "name": "python"
    }
  },
  "cells": [
    {
      "cell_type": "markdown",
      "metadata": {
        "id": "view-in-github",
        "colab_type": "text"
      },
      "source": [
        "<a href=\"https://colab.research.google.com/github/laibasiddique75/project-4/blob/main/00_intro_python.ipynb\" target=\"_parent\"><img src=\"https://colab.research.google.com/assets/colab-badge.svg\" alt=\"Open In Colab\"/></a>"
      ]
    },
    {
      "cell_type": "code",
      "execution_count": null,
      "metadata": {
        "colab": {
          "base_uri": "https://localhost:8080/"
        },
        "id": "XQU6yEpliiwp",
        "outputId": "2f5532a1-18b6-4bc4-ccc9-281b9b9a5acd"
      },
      "outputs": [
        {
          "output_type": "stream",
          "name": "stdout",
          "text": [
            "01_add_two_numbers\n",
            "This application for add two numbers\n",
            "Enter your first number7\n",
            "Enter your second number5\n",
            "The total sum of 7 and 5 is 12\n"
          ]
        }
      ],
      "source": [
        "print(\"01_add_two_numbers\")\n",
        "\n",
        "def add():\n",
        "  print(\"This application for add two numbers\")\n",
        "  first_number = int(input(\"Enter your first number\"))\n",
        "  second_number = int(input(\"Enter your second number\"))\n",
        "  total = int(first_number + second_number )\n",
        "  print(f\"The total sum of {first_number} and { second_number} is {total}\")\n",
        "\n",
        "if __name__ == \"__main__\":\n",
        "    add()"
      ]
    },
    {
      "cell_type": "code",
      "source": [
        "print(\"02_agreement_bot\")\n",
        "\n",
        "def bot():\n",
        "  animal = str(input(\"What is your favourite animal?\"))\n",
        "  print(f\"My favourite animal is also {animal}!\")\n",
        "\n",
        "\n",
        "if __name__ == \"__main__\":\n",
        "  bot()"
      ],
      "metadata": {
        "colab": {
          "base_uri": "https://localhost:8080/"
        },
        "id": "jEyF7-0Zl7PK",
        "outputId": "2749b19d-5f28-4c2b-f88d-4d32d9f5d5a0"
      },
      "execution_count": null,
      "outputs": [
        {
          "output_type": "stream",
          "name": "stdout",
          "text": [
            "02_agreement_bot\n",
            "What is your favourite animal?cat\n",
            "My favourite animal is also cat!\n"
          ]
        }
      ]
    },
    {
      "cell_type": "code",
      "source": [
        "print(\"03_fahrenheit_to_celsius\")\n",
        "\n",
        "def temp():\n",
        "  print(\"This code for converting fahrenheit to celsius\")\n",
        "  fahrenheit_degree = float(input(\"Enter your fahrenheit degree. \"))\n",
        "  celsius_degree = (fahrenheit_degree - 32) * 5.0/9.0\n",
        "  print(f\"Tmperature {fahrenheit_degree} F = {celsius_degree} C\")\n",
        "\n",
        "if __name__ == \"__main__\":\n",
        "  temp()\n",
        "\n",
        "\n"
      ],
      "metadata": {
        "colab": {
          "base_uri": "https://localhost:8080/"
        },
        "id": "6ry2vhS_m4E6",
        "outputId": "8b40272d-084d-4c29-e504-f88d9ce014f9"
      },
      "execution_count": null,
      "outputs": [
        {
          "output_type": "stream",
          "name": "stdout",
          "text": [
            "03_fahrenheit_to_celsius\n",
            "This code for converting fahrenheit to celsius\n",
            "Enter your fahrenheit degree. 58\n",
            "Tmperature 58.0 F = 14.444444444444445 C\n"
          ]
        }
      ]
    },
    {
      "cell_type": "code",
      "source": [
        "print(\"04_how_old_are_they\")\n",
        "\n",
        "def add_ages():\n",
        "  anthon:int = 21\n",
        "  beth:int = anthon + 6\n",
        "  chen:int = beth + 20\n",
        "  drew:int = chen + anthon\n",
        "  ethan:int = chen\n",
        "\n",
        "  print(\"Anthon is \" + str(anthon))\n",
        "  print(\"Beth is \" + str(beth))\n",
        "  print(\"Chen is \" + str(chen))\n",
        "  print(\"Drew is \" + str(drew))\n",
        "  print(\"Ethan is \" + str(ethan))\n",
        "\n",
        "if __name__ == \"__main__\":\n",
        "  add_ages()"
      ],
      "metadata": {
        "colab": {
          "base_uri": "https://localhost:8080/"
        },
        "id": "ag5MitkBrzmF",
        "outputId": "4d9c88d0-5178-46ff-96a3-d9996eef19aa"
      },
      "execution_count": null,
      "outputs": [
        {
          "output_type": "stream",
          "name": "stdout",
          "text": [
            "04_how_old_are_they\n",
            "Anthon is 21\n",
            "Beth is 27\n",
            "Chen is 47\n",
            "Drew is 68\n",
            "Ethan is 47\n"
          ]
        }
      ]
    },
    {
      "cell_type": "code",
      "source": [
        "print(\"05_triangle_perimeter\")\n",
        "\n",
        "def triangle():\n",
        "  print(\"This code is about perimeter of triangle. \")\n",
        "  side1:float = float(input(\"Enter your first side no of triangle. \"))\n",
        "  side2:float = float(input(\"Enter your second side no of triangle. \"))\n",
        "  side3:float = float(input(\"Enter your third side no of triangle. \"))\n",
        "  total:float = float(side1 + side2 + side3)\n",
        "  print(f\"Th perimeter of the triangle is {total}\")\n",
        "\n",
        "if __name__ == \"__main__\":\n",
        "  triangle()\n",
        "\n"
      ],
      "metadata": {
        "colab": {
          "base_uri": "https://localhost:8080/"
        },
        "id": "nPvtP2Nny2Sx",
        "outputId": "381b21ad-57b2-44d8-ac88-5fcea6faa3c5"
      },
      "execution_count": null,
      "outputs": [
        {
          "output_type": "stream",
          "name": "stdout",
          "text": [
            "05_triangle_perimeter\n",
            "This code is about perimeter of triangle. \n",
            "Enter your first side no of triangle. 7\n",
            "Enter your second side no of triangle. 9\n",
            "Enter your third side no of triangle. 7\n",
            "Th perimeter of the triangle is 23.0\n"
          ]
        }
      ]
    },
    {
      "cell_type": "code",
      "source": [
        "print(\"06_square_number\")\n",
        "\n",
        "def square():\n",
        "  print(\"This code is about square of given number\")\n",
        "  num1:int = int(input(\"Enter any number and i will give you a square value. \"))\n",
        "  print(f\"The square of {num1} is {num1 ** 2}\")\n",
        "\n",
        "\n",
        "if __name__ == \"__main__\":\n",
        "  square()\n",
        "\n"
      ],
      "metadata": {
        "colab": {
          "base_uri": "https://localhost:8080/"
        },
        "id": "AArDBb1bzirI",
        "outputId": "3db705fd-68da-42bf-ef0f-0aae49205ce6"
      },
      "execution_count": null,
      "outputs": [
        {
          "output_type": "stream",
          "name": "stdout",
          "text": [
            "06_square_number\n",
            "This code is about square of given number\n",
            "Enter any number and i will give you a square value. 6\n",
            "The square of 6 is 36\n"
          ]
        }
      ]
    }
  ]
}